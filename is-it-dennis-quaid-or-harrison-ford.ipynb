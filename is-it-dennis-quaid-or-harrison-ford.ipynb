{
  "cells": [
    {
      "cell_type": "markdown",
      "metadata": {
        "id": "view-in-github",
        "colab_type": "text"
      },
      "source": [
        "<a href=\"https://colab.research.google.com/github/atoscram/fastai-is-it-dennis-quaid-or-harrison-ford/blob/main/is-it-dennis-quaid-or-harrison-ford.ipynb\" target=\"_parent\"><img src=\"https://colab.research.google.com/assets/colab-badge.svg\" alt=\"Open In Colab\"/></a>"
      ]
    },
    {
      "cell_type": "markdown",
      "id": "69bce006",
      "metadata": {
        "papermill": {
          "duration": 0.029415,
          "end_time": "2023-05-16T00:21:46.367373",
          "exception": false,
          "start_time": "2023-05-16T00:21:46.337958",
          "status": "completed"
        },
        "tags": [],
        "id": "69bce006"
      },
      "source": [
        "## Is it Harrison Ford or Dennis Quaid?"
      ]
    },
    {
      "cell_type": "code",
      "execution_count": null,
      "id": "793338e4",
      "metadata": {
        "execution": {
          "iopub.execute_input": "2023-05-16T00:21:46.422043Z",
          "iopub.status.busy": "2023-05-16T00:21:46.421523Z",
          "iopub.status.idle": "2023-05-16T00:21:46.439352Z",
          "shell.execute_reply": "2023-05-16T00:21:46.438655Z"
        },
        "papermill": {
          "duration": 0.047858,
          "end_time": "2023-05-16T00:21:46.441417",
          "exception": false,
          "start_time": "2023-05-16T00:21:46.393559",
          "status": "completed"
        },
        "tags": [],
        "id": "793338e4"
      },
      "outputs": [],
      "source": [
        "#NB: Kaggle requires phone verification to use the internet or a GPU. If you haven't done that yet, the cell below will fail\n",
        "#    This code is only here to check that your internet is enabled. It doesn't do anything else.\n",
        "#    Here's a help thread on getting your phone number verified: https://www.kaggle.com/product-feedback/135367\n",
        "\n",
        "import socket,warnings\n",
        "try:\n",
        "    socket.setdefaulttimeout(1)\n",
        "    socket.socket(socket.AF_INET, socket.SOCK_STREAM).connect(('1.1.1.1', 53))\n",
        "except socket.error as ex: raise Exception(\"STOP: No internet. Click '>|' in top right and set 'Internet' switch to on\")"
      ]
    },
    {
      "cell_type": "code",
      "execution_count": null,
      "id": "32ff3448",
      "metadata": {
        "_kg_hide-input": true,
        "_kg_hide-output": true,
        "execution": {
          "iopub.execute_input": "2023-05-16T00:21:46.493678Z",
          "iopub.status.busy": "2023-05-16T00:21:46.493420Z",
          "iopub.status.idle": "2023-05-16T00:22:07.763013Z",
          "shell.execute_reply": "2023-05-16T00:22:07.762142Z"
        },
        "papermill": {
          "duration": 21.29849,
          "end_time": "2023-05-16T00:22:07.765275",
          "exception": false,
          "start_time": "2023-05-16T00:21:46.466785",
          "status": "completed"
        },
        "tags": [],
        "id": "32ff3448"
      },
      "outputs": [],
      "source": [
        "# It's a good idea to ensure you're running the latest version of any libraries you need.\n",
        "# `!pip install -Uqq <libraries>` upgrades to the latest version of <libraries>\n",
        "# NB: You can safely ignore any warnings or errors pip spits out about running as root or incompatibilities\n",
        "# import os\n",
        "# iskaggle = os.environ.get('KAGGLE_KERNEL_RUN_TYPE', '')\n",
        "\n",
        "# if iskaggle:\n",
        "!pip install -Uqq fastai duckduckgo_search\n",
        "  # use bing_image_downloader if ddg is broken\n",
        "    # CURRENT VERSION OF DUCKDUCKGO IS BROKEN AND CAN ONLY DOWNLOAD 1 IMAGE EVERY 10 MINS SO CHANGED TO BING IMAGE DOWNLOADER FOR NOW"
      ]
    },
    {
      "cell_type": "markdown",
      "id": "44a3d291",
      "metadata": {
        "papermill": {
          "duration": 0.025482,
          "end_time": "2023-05-16T00:22:07.816723",
          "exception": false,
          "start_time": "2023-05-16T00:22:07.791241",
          "status": "completed"
        },
        "tags": [],
        "id": "44a3d291"
      },
      "source": [
        "In 2015 the idea of creating a computer system that could recognise birds was considered so outrageously challenging that it was the basis of [this XKCD joke](https://xkcd.com/1425/):"
      ]
    },
    {
      "cell_type": "markdown",
      "id": "8675ec74",
      "metadata": {
        "papermill": {
          "duration": 0.024911,
          "end_time": "2023-05-16T00:22:07.917686",
          "exception": false,
          "start_time": "2023-05-16T00:22:07.892775",
          "status": "completed"
        },
        "tags": [],
        "id": "8675ec74"
      },
      "source": [
        "But today, we can do exactly that, in just a few minutes, using entirely free resources!\n",
        "\n",
        "The basic steps we'll take are:\n",
        "\n",
        "1. Use DuckDuckGo to search for images of \"bird photos\"\n",
        "1. Use DuckDuckGo to search for images of \"forest photos\"\n",
        "1. Fine-tune a pretrained neural network to recognise these two groups\n",
        "1. Try running this model on a picture of a bird and see if it works."
      ]
    },
    {
      "cell_type": "markdown",
      "id": "c519c680",
      "metadata": {
        "papermill": {
          "duration": 0.02714,
          "end_time": "2023-05-16T00:22:07.970177",
          "exception": false,
          "start_time": "2023-05-16T00:22:07.943037",
          "status": "completed"
        },
        "tags": [],
        "id": "c519c680"
      },
      "source": [
        "## Step 1: Download images of birds and non-birds"
      ]
    },
    {
      "cell_type": "code",
      "execution_count": 4,
      "id": "35bbf87d",
      "metadata": {
        "_kg_hide-input": true,
        "execution": {
          "iopub.execute_input": "2023-05-16T00:22:08.023113Z",
          "iopub.status.busy": "2023-05-16T00:22:08.022684Z",
          "iopub.status.idle": "2023-05-16T00:22:08.061494Z",
          "shell.execute_reply": "2023-05-16T00:22:08.060574Z"
        },
        "papermill": {
          "duration": 0.068487,
          "end_time": "2023-05-16T00:22:08.063879",
          "exception": false,
          "start_time": "2023-05-16T00:22:07.995392",
          "status": "completed"
        },
        "tags": [],
        "id": "35bbf87d"
      },
      "outputs": [],
      "source": [
        "from duckduckgo_search import ddg_images\n",
        "from fastcore.all import *\n",
        "\n",
        "def search_images(term, max_images=30):\n",
        "    print(f\"Searching for '{term}'\")\n",
        "    return L(ddg_images(term, max_results=max_images)).itemgot('image')"
      ]
    },
    {
      "cell_type": "markdown",
      "id": "5a513d7e",
      "metadata": {
        "papermill": {
          "duration": 0.025371,
          "end_time": "2023-05-16T00:22:08.114926",
          "exception": false,
          "start_time": "2023-05-16T00:22:08.089555",
          "status": "completed"
        },
        "tags": [],
        "id": "5a513d7e"
      },
      "source": [
        "Let's start by searching for a bird photo and seeing what kind of result we get. We'll start by getting URLs from a search:"
      ]
    },
    {
      "cell_type": "code",
      "execution_count": null,
      "id": "2d0c980a",
      "metadata": {
        "execution": {
          "iopub.execute_input": "2023-05-16T00:22:08.167785Z",
          "iopub.status.busy": "2023-05-16T00:22:08.167107Z",
          "iopub.status.idle": "2023-05-16T00:22:08.171080Z",
          "shell.execute_reply": "2023-05-16T00:22:08.170421Z"
        },
        "papermill": {
          "duration": 0.03247,
          "end_time": "2023-05-16T00:22:08.172931",
          "exception": false,
          "start_time": "2023-05-16T00:22:08.140461",
          "status": "completed"
        },
        "tags": [],
        "id": "2d0c980a"
      },
      "outputs": [],
      "source": [
        "#NB: `search_images` depends on duckduckgo.com, which doesn't always return correct responses.\n",
        "#    If you get a JSON error, just try running it again (it may take a couple of tries).\n",
        "urls = search_images('harrison ford photos', max_images=1)\n",
        "urls[0]"
      ]
    },
    {
      "cell_type": "markdown",
      "id": "63d78316",
      "metadata": {
        "papermill": {
          "duration": 0.025644,
          "end_time": "2023-05-16T00:22:08.223983",
          "exception": false,
          "start_time": "2023-05-16T00:22:08.198339",
          "status": "completed"
        },
        "tags": [],
        "id": "63d78316"
      },
      "source": [
        "...and then download a URL and take a look at it:"
      ]
    },
    {
      "cell_type": "code",
      "execution_count": null,
      "id": "1030db38",
      "metadata": {
        "execution": {
          "iopub.execute_input": "2023-05-16T00:22:08.276653Z",
          "iopub.status.busy": "2023-05-16T00:22:08.276388Z",
          "iopub.status.idle": "2023-05-16T00:22:16.636389Z",
          "shell.execute_reply": "2023-05-16T00:22:16.635630Z"
        },
        "papermill": {
          "duration": 8.389115,
          "end_time": "2023-05-16T00:22:16.638649",
          "exception": false,
          "start_time": "2023-05-16T00:22:08.249534",
          "status": "completed"
        },
        "tags": [],
        "id": "1030db38"
      },
      "outputs": [],
      "source": [
        "from fastdownload import download_url\n",
        "dest = 'harrison ford.jpg'\n",
        "download_url(urls[0], dest, show_progress=False)\n",
        "\n",
        "from fastai.vision.all import *\n",
        "#from bing_image_downloader import downloader\n",
        "\n",
        "#downloader.download(f'harrison ford', limit=5,  output_dir=\"test\", adult_filter_off=True, force_replace=False, timeout=60, verbose=True)\n",
        "im = Image.open(dest)\n",
        "im.to_thumb(256,256)"
      ]
    },
    {
      "cell_type": "markdown",
      "id": "424a57ff",
      "metadata": {
        "papermill": {
          "duration": 0.029765,
          "end_time": "2023-05-16T00:22:16.698905",
          "exception": false,
          "start_time": "2023-05-16T00:22:16.669140",
          "status": "completed"
        },
        "tags": [],
        "id": "424a57ff"
      },
      "source": [
        "Now let's do the same with \"forest photos\":"
      ]
    },
    {
      "cell_type": "code",
      "execution_count": null,
      "id": "a5748710",
      "metadata": {
        "execution": {
          "iopub.execute_input": "2023-05-16T00:22:16.761289Z",
          "iopub.status.busy": "2023-05-16T00:22:16.760471Z",
          "iopub.status.idle": "2023-05-16T00:22:24.595173Z",
          "shell.execute_reply": "2023-05-16T00:22:24.594435Z"
        },
        "papermill": {
          "duration": 7.869026,
          "end_time": "2023-05-16T00:22:24.597865",
          "exception": false,
          "start_time": "2023-05-16T00:22:16.728839",
          "status": "completed"
        },
        "tags": [],
        "id": "a5748710"
      },
      "outputs": [],
      "source": [
        "download_url(search_images('dennis quaid photos', max_images=1)[0], 'dennis quaid.jpg', show_progress=False)\n",
        "#downloader.download(f'dennis quaid', limit=5,  output_dir=\"test\", adult_filter_off=True, force_replace=False, timeout=60, verbose=True)\n",
        "Image.open('dennis quaid.jpg').to_thumb(256,256)"
      ]
    },
    {
      "cell_type": "markdown",
      "id": "7e106ccd",
      "metadata": {
        "papermill": {
          "duration": 0.034989,
          "end_time": "2023-05-16T00:22:24.669001",
          "exception": false,
          "start_time": "2023-05-16T00:22:24.634012",
          "status": "completed"
        },
        "tags": [],
        "id": "7e106ccd"
      },
      "source": [
        "Our searches seem to be giving reasonable results, so let's grab a few examples of each of \"bird\" and \"forest\" photos, and save each group of photos to a different folder (I'm also trying to grab a range of lighting conditions here):"
      ]
    },
    {
      "cell_type": "code",
      "execution_count": null,
      "id": "f023deeb",
      "metadata": {
        "execution": {
          "iopub.execute_input": "2023-05-16T00:22:24.822227Z",
          "iopub.status.busy": "2023-05-16T00:22:24.821653Z",
          "iopub.status.idle": "2023-05-16T00:30:43.567985Z",
          "shell.execute_reply": "2023-05-16T00:30:43.566978Z"
        },
        "papermill": {
          "duration": 498.786011,
          "end_time": "2023-05-16T00:30:43.570594",
          "exception": false,
          "start_time": "2023-05-16T00:22:24.784583",
          "status": "completed"
        },
        "tags": [],
        "id": "f023deeb"
      },
      "outputs": [],
      "source": [
        "searches = 'harrison ford','dennis quaid'\n",
        "path = Path('harrison_ford_or_dennis_quaid')\n",
        "from time import sleep\n",
        "\n",
        "for o in searches:\n",
        "    dest = (path/o)\n",
        "    dest.mkdir(exist_ok=True, parents=True)\n",
        "    download_images(dest, urls=search_images(f'{o} photo'))\n",
        "    #downloader.download(f'{o} photo', limit=50,  output_dir=dest, adult_filter_off=True, force_replace=False, timeout=60, verbose=True)\n",
        "    sleep(10)  # Pause between searches to avoid over-loading server\n",
        "    download_images(dest, urls=search_images(f'{o} movie photo'))\n",
        "    #downloader.download(f'{o} actor photo', limit=50,  output_dir=dest, adult_filter_off=True, force_replace=False, timeout=60, verbose=True)\n",
        "    sleep(10)\n",
        "    download_images(dest, urls=search_images(f'{o} young photo'))\n",
        "    #downloader.download(f'{o} smiling photo', limit=50,  output_dir=dest, adult_filter_off=True, force_replace=False, timeout=60, verbose=True)\n",
        "    sleep(10)\n",
        "    resize_images(path/o, max_size=400, dest=path/o)"
      ]
    },
    {
      "cell_type": "markdown",
      "id": "d2129efb",
      "metadata": {
        "papermill": {
          "duration": 0.181896,
          "end_time": "2023-05-16T00:30:43.937145",
          "exception": false,
          "start_time": "2023-05-16T00:30:43.755249",
          "status": "completed"
        },
        "tags": [],
        "id": "d2129efb"
      },
      "source": [
        "## Step 2: Train our model"
      ]
    },
    {
      "cell_type": "markdown",
      "id": "278fa2e2",
      "metadata": {
        "papermill": {
          "duration": 0.183812,
          "end_time": "2023-05-16T00:30:44.305512",
          "exception": false,
          "start_time": "2023-05-16T00:30:44.121700",
          "status": "completed"
        },
        "tags": [],
        "id": "278fa2e2"
      },
      "source": [
        "Some photos might not download correctly which could cause our model training to fail, so we'll remove them:"
      ]
    },
    {
      "cell_type": "code",
      "execution_count": null,
      "id": "44880554",
      "metadata": {
        "execution": {
          "iopub.execute_input": "2023-05-16T00:30:44.672567Z",
          "iopub.status.busy": "2023-05-16T00:30:44.672229Z",
          "iopub.status.idle": "2023-05-16T00:30:46.030851Z",
          "shell.execute_reply": "2023-05-16T00:30:46.029864Z"
        },
        "papermill": {
          "duration": 1.545574,
          "end_time": "2023-05-16T00:30:46.033506",
          "exception": false,
          "start_time": "2023-05-16T00:30:44.487932",
          "status": "completed"
        },
        "tags": [],
        "id": "44880554"
      },
      "outputs": [],
      "source": [
        "failed = verify_images(get_image_files(path))\n",
        "failed.map(Path.unlink)\n",
        "len(failed)"
      ]
    },
    {
      "cell_type": "markdown",
      "id": "e728233d",
      "metadata": {
        "papermill": {
          "duration": 0.188067,
          "end_time": "2023-05-16T00:30:46.412657",
          "exception": false,
          "start_time": "2023-05-16T00:30:46.224590",
          "status": "completed"
        },
        "tags": [],
        "id": "e728233d"
      },
      "source": [
        "To train a model, we'll need `DataLoaders`, which is an object that contains a *training set* (the images used to create a model) and a *validation set* (the images used to check the accuracy of a model -- not used during training). In `fastai` we can create that easily using a `DataBlock`, and view sample images from it:"
      ]
    },
    {
      "cell_type": "code",
      "execution_count": null,
      "id": "bf944ecd",
      "metadata": {
        "execution": {
          "iopub.execute_input": "2023-05-16T00:30:46.790507Z",
          "iopub.status.busy": "2023-05-16T00:30:46.790209Z",
          "iopub.status.idle": "2023-05-16T00:30:48.704276Z",
          "shell.execute_reply": "2023-05-16T00:30:48.703467Z"
        },
        "papermill": {
          "duration": 2.106041,
          "end_time": "2023-05-16T00:30:48.709614",
          "exception": false,
          "start_time": "2023-05-16T00:30:46.603573",
          "status": "completed"
        },
        "tags": [],
        "id": "bf944ecd"
      },
      "outputs": [],
      "source": [
        "dls = DataBlock(\n",
        "    blocks=(ImageBlock, CategoryBlock), \n",
        "    get_items=get_image_files, \n",
        "    splitter=RandomSplitter(valid_pct=0.2, seed=42),\n",
        "    get_y=parent_label,\n",
        "    item_tfms=[Resize(192, method='squish')]\n",
        ").dataloaders(path, bs=32)\n",
        "\n",
        "dls.show_batch(max_n=6)"
      ]
    },
    {
      "cell_type": "markdown",
      "id": "dc445ef8",
      "metadata": {
        "papermill": {
          "duration": 0.195514,
          "end_time": "2023-05-16T00:30:49.096628",
          "exception": false,
          "start_time": "2023-05-16T00:30:48.901114",
          "status": "completed"
        },
        "tags": [],
        "id": "dc445ef8"
      },
      "source": [
        "Here what each of the `DataBlock` parameters means:\n",
        "\n",
        "    blocks=(ImageBlock, CategoryBlock),\n",
        "\n",
        "The inputs to our model are images, and the outputs are categories (in this case, \"bird\" or \"forest\").\n",
        "\n",
        "    get_items=get_image_files, \n",
        "\n",
        "To find all the inputs to our model, run the `get_image_files` function (which returns a list of all image files in a path).\n",
        "\n",
        "    splitter=RandomSplitter(valid_pct=0.2, seed=42),\n",
        "\n",
        "Split the data into training and validation sets randomly, using 20% of the data for the validation set.\n",
        "\n",
        "    get_y=parent_label,\n",
        "\n",
        "The labels (`y` values) is the name of the `parent` of each file (i.e. the name of the folder they're in, which will be *bird* or *forest*).\n",
        "\n",
        "    item_tfms=[Resize(192, method='squish')]\n",
        "\n",
        "Before training, resize each image to 192x192 pixels by \"squishing\" it (as opposed to cropping it)."
      ]
    },
    {
      "cell_type": "markdown",
      "id": "6535fb96",
      "metadata": {
        "papermill": {
          "duration": 0.191197,
          "end_time": "2023-05-16T00:30:49.480910",
          "exception": false,
          "start_time": "2023-05-16T00:30:49.289713",
          "status": "completed"
        },
        "tags": [],
        "id": "6535fb96"
      },
      "source": [
        "Now we're ready to train our model. The fastest widely used computer vision model is `resnet18`. You can train this in a few minutes, even on a CPU! (On a GPU, it generally takes under 10 seconds...)\n",
        "\n",
        "`fastai` comes with a helpful `fine_tune()` method which automatically uses best practices for fine tuning a pre-trained model, so we'll use that."
      ]
    },
    {
      "cell_type": "code",
      "execution_count": null,
      "id": "09f285a8",
      "metadata": {
        "execution": {
          "iopub.execute_input": "2023-05-16T00:30:49.865182Z",
          "iopub.status.busy": "2023-05-16T00:30:49.864575Z",
          "iopub.status.idle": "2023-05-16T00:35:29.396009Z",
          "shell.execute_reply": "2023-05-16T00:35:29.394326Z"
        },
        "papermill": {
          "duration": 279.727014,
          "end_time": "2023-05-16T00:35:29.398209",
          "exception": false,
          "start_time": "2023-05-16T00:30:49.671195",
          "status": "completed"
        },
        "tags": [],
        "id": "09f285a8"
      },
      "outputs": [],
      "source": [
        "learn = vision_learner(dls, resnet18, metrics=error_rate)\n",
        "learn.fine_tune(10)"
      ]
    },
    {
      "cell_type": "markdown",
      "id": "6c9ac3f9",
      "metadata": {
        "papermill": {
          "duration": 0.194672,
          "end_time": "2023-05-16T00:35:29.787762",
          "exception": false,
          "start_time": "2023-05-16T00:35:29.593090",
          "status": "completed"
        },
        "tags": [],
        "id": "6c9ac3f9"
      },
      "source": [
        "Generally when I run this I see 100% accuracy on the validation set (although it might vary a bit from run to run).\n",
        "\n",
        "\"Fine-tuning\" a model means that we're starting with a model someone else has trained using some other dataset (called the *pretrained model*), and adjusting the weights a little bit so that the model learns to recognise your particular dataset. In this case, the pretrained model was trained to recognise photos in *imagenet*, and widely-used computer vision dataset with images covering 1000 categories) For details on fine-tuning and why it's important, check out the [free fast.ai course](https://course.fast.ai/)."
      ]
    },
    {
      "cell_type": "markdown",
      "id": "966172a3",
      "metadata": {
        "papermill": {
          "duration": 0.199326,
          "end_time": "2023-05-16T00:35:30.183163",
          "exception": false,
          "start_time": "2023-05-16T00:35:29.983837",
          "status": "completed"
        },
        "tags": [],
        "id": "966172a3"
      },
      "source": [
        "## Step 3: Use our model (and build your own!)"
      ]
    },
    {
      "cell_type": "markdown",
      "id": "279e11d0",
      "metadata": {
        "papermill": {
          "duration": 0.194,
          "end_time": "2023-05-16T00:35:30.573584",
          "exception": false,
          "start_time": "2023-05-16T00:35:30.379584",
          "status": "completed"
        },
        "tags": [],
        "id": "279e11d0"
      },
      "source": [
        "Let's see what our model thinks about that bird we downloaded at the start:"
      ]
    },
    {
      "cell_type": "code",
      "execution_count": null,
      "id": "01696241",
      "metadata": {
        "execution": {
          "iopub.execute_input": "2023-05-16T00:35:30.965311Z",
          "iopub.status.busy": "2023-05-16T00:35:30.964388Z",
          "iopub.status.idle": "2023-05-16T00:35:33.130952Z",
          "shell.execute_reply": "2023-05-16T00:35:33.130043Z"
        },
        "papermill": {
          "duration": 2.365677,
          "end_time": "2023-05-16T00:35:33.133767",
          "exception": false,
          "start_time": "2023-05-16T00:35:30.768090",
          "status": "completed"
        },
        "tags": [],
        "id": "01696241"
      },
      "outputs": [],
      "source": [
        "import os\n",
        "from IPython.display import display\n",
        "\n",
        "image_test_path1 = \"harrison ford.jpg\"\n",
        "image_test_path2 = \"dennis quaid.jpg\"\n",
        " \n",
        "#for item in os.listdir(image_test_path1):\n",
        "is_actor,_,probs = learn.predict(PILImage.create(image_test_path1))\n",
        "print(f\"This is a: {is_actor}.\")\n",
        "print(f\"Probability it's {os.path.dirname(image_test_path1)}: {probs[0]*100:.2f}%\")\n",
        "display(Image.open(image_test_path1).to_thumb(256,256))\n",
        "\n",
        "#for item in os.listdir(image_test_path2):\n",
        "is_actor,_,probs = learn.predict(PILImage.create(image_test_path2))\n",
        "print(f\"This is a: {is_actor}.\")\n",
        "print(f\"Probability it's {os.path.dirname(image_test_path2)}: {probs[0]*100:.2f}%\")\n",
        "display(Image.open(image_test_path2).to_thumb(256,256))"
      ]
    },
    {
      "cell_type": "markdown",
      "source": [
        "Time to create my model"
      ],
      "metadata": {
        "id": "I_LHLjhCLIfe"
      },
      "id": "I_LHLjhCLIfe"
    },
    {
      "cell_type": "code",
      "source": [
        "learn.export('is-it-dennis-quaid-or-harrison-ford.pkl')"
      ],
      "metadata": {
        "id": "kppuGtHpLL6x"
      },
      "id": "kppuGtHpLL6x",
      "execution_count": 20,
      "outputs": []
    },
    {
      "cell_type": "markdown",
      "id": "1e90db85",
      "metadata": {
        "papermill": {
          "duration": 0.240521,
          "end_time": "2023-05-16T00:35:33.616739",
          "exception": false,
          "start_time": "2023-05-16T00:35:33.376218",
          "status": "completed"
        },
        "tags": [],
        "id": "1e90db85"
      },
      "source": [
        "Good job, resnet18. :)\n",
        "\n",
        "So, as you see, in the space of a few years, creating computer vision classification models has gone from \"so hard it's a joke\" to \"trivially easy and free\"!\n",
        "\n",
        "It's not just in computer vision. Thanks to deep learning, computers can now do many things which seemed impossible just a few years ago, including [creating amazing artworks](https://openai.com/dall-e-2/), and [explaining jokes](https://www.datanami.com/2022/04/22/googles-massive-new-language-model-can-explain-jokes/). It's moving so fast that even experts in the field have trouble predicting how it's going to impact society in the coming years.\n",
        "\n",
        "One thing is clear -- it's important that we all do our best to understand this technology, because otherwise we'll get left behind!"
      ]
    },
    {
      "cell_type": "markdown",
      "id": "ee1922f1",
      "metadata": {
        "papermill": {
          "duration": 0.244264,
          "end_time": "2023-05-16T00:35:34.104965",
          "exception": false,
          "start_time": "2023-05-16T00:35:33.860701",
          "status": "completed"
        },
        "tags": [],
        "id": "ee1922f1"
      },
      "source": [
        "Now it's your turn. Click \"Copy & Edit\" and try creating your own image classifier using your own image searches!\n",
        "\n",
        "If you enjoyed this, please consider clicking the \"upvote\" button in the top-right -- it's very encouraging to us notebook authors to know when people appreciate our work."
      ]
    }
  ],
  "metadata": {
    "kernelspec": {
      "display_name": "Python 3",
      "language": "python",
      "name": "python3"
    },
    "language_info": {
      "codemirror_mode": {
        "name": "ipython",
        "version": 3
      },
      "file_extension": ".py",
      "mimetype": "text/x-python",
      "name": "python",
      "nbconvert_exporter": "python",
      "pygments_lexer": "ipython3",
      "version": "3.7.12"
    },
    "papermill": {
      "default_parameters": {},
      "duration": 837.968055,
      "end_time": "2023-05-16T00:35:35.370569",
      "environment_variables": {},
      "exception": null,
      "input_path": "__notebook__.ipynb",
      "output_path": "__notebook__.ipynb",
      "parameters": {},
      "start_time": "2023-05-16T00:21:37.402514",
      "version": "2.3.4"
    },
    "colab": {
      "provenance": [],
      "include_colab_link": true
    }
  },
  "nbformat": 4,
  "nbformat_minor": 5
}